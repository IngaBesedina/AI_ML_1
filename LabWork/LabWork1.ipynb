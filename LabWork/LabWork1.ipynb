{
  "cells": [
    {
      "cell_type": "markdown",
      "metadata": {
        "id": "view-in-github",
        "colab_type": "text"
      },
      "source": [
        "<a href=\"https://colab.research.google.com/github/IngaBesedina/AI_ML_1/blob/main/LabWork/LabWork1.ipynb\" target=\"_parent\"><img src=\"https://colab.research.google.com/assets/colab-badge.svg\" alt=\"Open In Colab\"/></a>"
      ]
    },
    {
      "cell_type": "markdown",
      "metadata": {
        "id": "0WHrp4L2DlLO"
      },
      "source": [
        "# Лабораторная работа 1\n",
        "## Исследование набора данных"
      ]
    },
    {
      "cell_type": "markdown",
      "metadata": {
        "id": "OuqYdfR6DlLR"
      },
      "source": [
        "### Подключение библиотеки NumPy и загрузка данных"
      ]
    },
    {
      "cell_type": "code",
      "source": [
        "!wget https://raw.githubusercontent.com/IngaBesedina/AI_ML_1/main/SeedsData/seeds.data"
      ],
      "metadata": {
        "colab": {
          "base_uri": "https://localhost:8080/"
        },
        "id": "tvYswangDm8g",
        "outputId": "a1fc9c89-1947-4321-a973-497edfb61aa1"
      },
      "execution_count": 46,
      "outputs": [
        {
          "output_type": "stream",
          "name": "stdout",
          "text": [
            "--2024-02-13 00:51:19--  https://raw.githubusercontent.com/IngaBesedina/AI_ML_1/main/SeedsData/seeds.data\n",
            "Resolving raw.githubusercontent.com (raw.githubusercontent.com)... 185.199.108.133, 185.199.109.133, 185.199.110.133, ...\n",
            "Connecting to raw.githubusercontent.com (raw.githubusercontent.com)|185.199.108.133|:443... connected.\n",
            "HTTP request sent, awaiting response... 200 OK\n",
            "Length: 10033 (9.8K) [text/plain]\n",
            "Saving to: ‘seeds.data.3’\n",
            "\n",
            "\rseeds.data.3          0%[                    ]       0  --.-KB/s               \rseeds.data.3        100%[===================>]   9.80K  --.-KB/s    in 0s      \n",
            "\n",
            "2024-02-13 00:51:19 (20.0 MB/s) - ‘seeds.data.3’ saved [10033/10033]\n",
            "\n"
          ]
        }
      ]
    },
    {
      "cell_type": "code",
      "execution_count": 47,
      "metadata": {
        "ExecuteTime": {
          "end_time": "2022-08-22T15:50:49.355964Z",
          "start_time": "2022-08-22T15:50:46.108877Z"
        },
        "colab": {
          "base_uri": "https://localhost:8080/"
        },
        "id": "Y-GOOMZhDlLR",
        "outputId": "ec366bec-b1be-4e80-cd92-0616da9ae3c7"
      },
      "outputs": [
        {
          "output_type": "stream",
          "name": "stdout",
          "text": [
            "[[15.26   14.84    0.871  ...  2.221   5.22       nan]\n",
            " [14.88   14.57    0.8811 ...  1.018   4.956      nan]\n",
            " [14.29   14.09    0.905  ...  2.699   4.825      nan]\n",
            " ...\n",
            " [13.2    13.66    0.8883 ...  8.315   5.056      nan]\n",
            " [11.84   13.21    0.8521 ...  3.598   5.044      nan]\n",
            " [12.3    13.34    0.8684 ...  5.637   5.063      nan]]\n"
          ]
        }
      ],
      "source": [
        "import numpy as np\n",
        "data_path = \"seeds.data.3\"\n",
        "data = np.genfromtxt(data_path, delimiter=\",\")\n",
        "print(data)"
      ]
    },
    {
      "cell_type": "markdown",
      "metadata": {
        "id": "BRkRKa7vDlLT"
      },
      "source": [
        "### Тип переменной и форма (shape)"
      ]
    },
    {
      "cell_type": "code",
      "execution_count": 48,
      "metadata": {
        "ExecuteTime": {
          "end_time": "2022-08-22T15:50:53.470268Z",
          "start_time": "2022-08-22T15:50:53.466267Z"
        },
        "colab": {
          "base_uri": "https://localhost:8080/"
        },
        "id": "n1sUPh2yDlLT",
        "outputId": "d45a2629-f617-48b0-be8e-cef50ddbcb1c"
      },
      "outputs": [
        {
          "output_type": "stream",
          "name": "stdout",
          "text": [
            "Data type :  <class 'numpy.ndarray'>\n",
            "Data shape :  (199, 8)\n",
            "[[15.26   14.84    0.871   5.763   3.312   2.221   5.22       nan]\n",
            " [14.88   14.57    0.8811  5.554   3.333   1.018   4.956      nan]\n",
            " [14.29   14.09    0.905   5.291   3.337   2.699   4.825      nan]\n",
            " [13.84   13.94    0.8955  5.324   3.379   2.259   4.805      nan]\n",
            " [16.14   14.99    0.9034  5.658   3.562   1.355   5.175      nan]\n",
            " [14.38   14.21    0.8951  5.386   3.312   2.462   4.956      nan]\n",
            " [14.69   14.49    0.8799  5.563   3.259   3.586   5.219      nan]\n",
            " [16.63   15.46    0.8747  6.053   3.465   2.04    5.877      nan]\n",
            " [16.44   15.25    0.888   5.884   3.505   1.969   5.533      nan]\n",
            " [15.26   14.85    0.8696  5.714   3.242   4.543   5.314      nan]]\n"
          ]
        }
      ],
      "source": [
        "print ( \"Data type : \", type(data) )\n",
        "print ( \"Data shape : \", data.shape )\n",
        "print ( data[:10] )"
      ]
    },
    {
      "cell_type": "markdown",
      "metadata": {
        "id": "WnQZ1-tlDlLT"
      },
      "source": [
        "### Получение типа набора данных, строки, элемента"
      ]
    },
    {
      "cell_type": "code",
      "execution_count": 49,
      "metadata": {
        "ExecuteTime": {
          "end_time": "2022-08-22T15:50:56.469203Z",
          "start_time": "2022-08-22T15:50:56.442184Z"
        },
        "colab": {
          "base_uri": "https://localhost:8080/"
        },
        "id": "diZMLAwIDlLT",
        "outputId": "dffc8291-1d1b-411f-ca1f-c3487c0f579b"
      },
      "outputs": [
        {
          "output_type": "stream",
          "name": "stdout",
          "text": [
            "Shape of the dataset: (199,)\n",
            "Dataset type: <class 'numpy.ndarray'>\n",
            "A single row of the dataset is type of: <class 'numpy.void'>\n",
            "Types of elements: <class 'numpy.float64'> <class 'numpy.bytes_'>\n",
            "Dataset:\n",
            "[(15.26, 14.84, 0.871 , 5.763, 3.312, 2.221, 5.22 , b'class_1')\n",
            " (14.88, 14.57, 0.8811, 5.554, 3.333, 1.018, 4.956, b'class_1')\n",
            " (14.29, 14.09, 0.905 , 5.291, 3.337, 2.699, 4.825, b'class_1')\n",
            " (13.84, 13.94, 0.8955, 5.324, 3.379, 2.259, 4.805, b'class_1')\n",
            " (16.14, 14.99, 0.9034, 5.658, 3.562, 1.355, 5.175, b'class_1')\n",
            " (14.38, 14.21, 0.8951, 5.386, 3.312, 2.462, 4.956, b'class_1')\n",
            " (14.69, 14.49, 0.8799, 5.563, 3.259, 3.586, 5.219, b'class_1')\n",
            " (16.63, 15.46, 0.8747, 6.053, 3.465, 2.04 , 5.877, b'class_1')\n",
            " (16.44, 15.25, 0.888 , 5.884, 3.505, 1.969, 5.533, b'class_1')\n",
            " (15.26, 14.85, 0.8696, 5.714, 3.242, 4.543, 5.314, b'class_1')]\n"
          ]
        },
        {
          "output_type": "stream",
          "name": "stderr",
          "text": [
            "<ipython-input-49-9854dd054bc8>:1: VisibleDeprecationWarning: Reading unicode strings without specifying the encoding argument is deprecated. Set the encoding, use None for the system default.\n",
            "  data1 = np.genfromtxt(data_path, delimiter=\",\", dtype=None)\n"
          ]
        }
      ],
      "source": [
        "data1 = np.genfromtxt(data_path, delimiter=\",\", dtype=None)\n",
        "print('Shape of the dataset:', data1.shape)\n",
        "print('Dataset type:', type(data1))\n",
        "print('A single row of the dataset is type of:', type(data1[0]))\n",
        "print('Types of elements:', type(data1[0][1]), type(data1[0][7]))\n",
        "print('Dataset:')\n",
        "print(data1[:10])"
      ]
    },
    {
      "cell_type": "markdown",
      "metadata": {
        "id": "RIYW2mlDDlLU"
      },
      "source": [
        "### Указание типа столбцов при загрузке данных"
      ]
    },
    {
      "cell_type": "code",
      "execution_count": 50,
      "metadata": {
        "ExecuteTime": {
          "end_time": "2022-08-22T15:50:59.019675Z",
          "start_time": "2022-08-22T15:50:59.010669Z"
        },
        "colab": {
          "base_uri": "https://localhost:8080/"
        },
        "id": "jo7IGpavDlLU",
        "outputId": "418f75d6-7f61-4f9c-d421-2fa8ee5878bd"
      },
      "outputs": [
        {
          "output_type": "stream",
          "name": "stdout",
          "text": [
            "Shape of the dataset: (199,)\n",
            "Dataset type: <class 'numpy.ndarray'>\n",
            "A single row of the dataset is type of: <class 'numpy.void'>\n",
            "Types of elements: <class 'numpy.float64'> <class 'numpy.str_'>\n",
            "Dataset slice:\n",
            "[(15.26, 14.84, 0.871 , 5.763, 3.312, 2.221, 5.22 , 'class_1')\n",
            " (14.88, 14.57, 0.8811, 5.554, 3.333, 1.018, 4.956, 'class_1')\n",
            " (14.29, 14.09, 0.905 , 5.291, 3.337, 2.699, 4.825, 'class_1')\n",
            " (13.84, 13.94, 0.8955, 5.324, 3.379, 2.259, 4.805, 'class_1')\n",
            " (16.14, 14.99, 0.9034, 5.658, 3.562, 1.355, 5.175, 'class_1')\n",
            " (14.38, 14.21, 0.8951, 5.386, 3.312, 2.462, 4.956, 'class_1')\n",
            " (14.69, 14.49, 0.8799, 5.563, 3.259, 3.586, 5.219, 'class_1')\n",
            " (16.63, 15.46, 0.8747, 6.053, 3.465, 2.04 , 5.877, 'class_1')\n",
            " (16.44, 15.25, 0.888 , 5.884, 3.505, 1.969, 5.533, 'class_1')\n",
            " (15.26, 14.85, 0.8696, 5.714, 3.242, 4.543, 5.314, 'class_1')]\n"
          ]
        }
      ],
      "source": [
        "dt = np.dtype(\"f8, f8, f8, f8, f8, f8, f8, U30\")\n",
        "data2 = np.genfromtxt(data_path, delimiter=\",\", dtype=dt)\n",
        "print('Shape of the dataset:', data2.shape)\n",
        "print('Dataset type:', type(data2))\n",
        "print('A single row of the dataset is type of:', type(data2[0]))\n",
        "print('Types of elements:', type(data2[0][1]), type(data2[0][7]))\n",
        "print('Dataset slice:')\n",
        "print(data2[:10])"
      ]
    },
    {
      "cell_type": "markdown",
      "metadata": {
        "id": "_zYCLCz1DlLU"
      },
      "source": [
        "### Построение графиков с использованием Matplotlib"
      ]
    },
    {
      "cell_type": "code",
      "execution_count": 51,
      "metadata": {
        "ExecuteTime": {
          "end_time": "2022-08-22T15:51:05.402528Z",
          "start_time": "2022-08-22T15:51:01.482184Z"
        },
        "colab": {
          "base_uri": "https://localhost:8080/",
          "height": 449
        },
        "id": "JY7JW0tBDlLV",
        "outputId": "d1589cac-b466-4c9c-9058-fca363eb57e5"
      },
      "outputs": [
        {
          "output_type": "display_data",
          "data": {
            "text/plain": [
              "<Figure size 640x480 with 1 Axes>"
            ],
            "image/png": "[encoded data removed]"
          },
          "metadata": {}
        }
      ],
      "source": [
        "import matplotlib as mpl\n",
        "import matplotlib.pyplot as plt\n",
        "%matplotlib inline\n",
        "\n",
        "# Данные из отдельных столбцов\n",
        "Area = []\n",
        "Perimeter = []\n",
        "Compactness = []\n",
        "Kernel_Length = []\n",
        "Kernel_Width = []\n",
        "Asymmetry_Coeff = []\n",
        "Kernel_Groove = []\n",
        "\n",
        "# Выполняем обход всей коллекции data2\n",
        "for dot in data2:\n",
        "    Area.append(dot[0])\n",
        "    Perimeter.append(dot[1])\n",
        "    Compactness.append(dot[2])\n",
        "    Kernel_Length.append(dot[3])\n",
        "    Kernel_Width.append(dot[4])\n",
        "    Asymmetry_Coeff.append(dot[5])\n",
        "    Kernel_Groove.append(dot[6])\n",
        "\n",
        "# Строим графики по проекциям данных\n",
        "# Учитываем, что каждые 50 типов ирисов идут последовательно\n",
        "plt.figure(1)\n",
        "high, = plt.plot(Area[:67], Perimeter[:67], 'ro', label='class_1')\n",
        "low, = plt.plot(Area[67:135], Perimeter[67:135], 'g^', label='class_2')\n",
        "medium, = plt.plot(Area[135:], Perimeter[135:], 'bs', label='class_3')\n",
        "plt.legend(bbox_to_anchor=(1.05, 1), loc=2, borderaxespad=0.)\n",
        "plt.xlabel('Area')\n",
        "plt.ylabel('Perimeter')\n",
        "\n",
        "\"\"\"plt.figure(2)\n",
        "setosa, = plt.plot(sepal_length[:50], petal_length[:50], 'ro', label='Setosa')\n",
        "versicolor, = plt.plot(sepal_length[50:100], petal_length[50:100], 'g^', label='Versicolor')\n",
        "virginica, = plt.plot(sepal_length[100:150], petal_length[100:150], 'bs', label='Verginica')\n",
        "plt.legend(bbox_to_anchor=(1.05, 1), loc=2, borderaxespad=0.)\n",
        "plt.xlabel('Sepal Length')\n",
        "plt.ylabel('Petal Length')\n",
        "\n",
        "plt.figure(3)\n",
        "setosa, = plt.plot(sepal_length[:50], petal_width[:50], 'ro', label='Setosa')\n",
        "versicolor, = plt.plot(sepal_length[50:100], petal_width[50:100], 'g^', label='Versicolor')\n",
        "virginica, = plt.plot(sepal_length[100:150], petal_width[100:150], 'bs', label='Verginica')\n",
        "plt.legend(bbox_to_anchor=(1.05, 1), loc=2, borderaxespad=0.)\n",
        "plt.xlabel('Sepal Length')\n",
        "plt.ylabel('Petal Width')\"\"\"\n",
        "\n",
        "plt.show()\n",
        "\n"
      ]
    },
    {
      "cell_type": "code",
      "source": [],
      "metadata": {
        "id": "wElg_74fDx4w"
      },
      "execution_count": null,
      "outputs": []
    }
  ],
  "metadata": {
    "kernelspec": {
      "display_name": "Python 3",
      "language": "python",
      "name": "python3"
    },
    "language_info": {
      "codemirror_mode": {
        "name": "ipython",
        "version": 3
      },
      "file_extension": ".py",
      "mimetype": "text/x-python",
      "name": "python",
      "nbconvert_exporter": "python",
      "pygments_lexer": "ipython3",
      "version": "3.6.6"
    },
    "toc": {
      "base_numbering": 1,
      "nav_menu": {},
      "number_sections": true,
      "sideBar": true,
      "skip_h1_title": false,
      "title_cell": "Table of Contents",
      "title_sidebar": "Contents",
      "toc_cell": false,
      "toc_position": {},
      "toc_section_display": true,
      "toc_window_display": false
    },
    "colab": {
      "provenance": [],
      "include_colab_link": true
    }
  },
  "nbformat": 4,
  "nbformat_minor": 0
}